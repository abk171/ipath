{
 "cells": [
  {
   "cell_type": "code",
   "execution_count": 8,
   "id": "b2d677e5",
   "metadata": {},
   "outputs": [],
   "source": [
    "import pandas as pd\n",
    "import requests\n",
    "import json\n",
    "import os"
   ]
  },
  {
   "cell_type": "code",
   "execution_count": 9,
   "id": "a3398ab0",
   "metadata": {},
   "outputs": [],
   "source": [
    "genes = ['GARS1', 'HARS1', 'CILK1', 'BPNT2', 'KARS1', 'DNAAF11', 'MARS1', 'QARS1', 'SEPTIN12', 'TAFAZZIN', 'STING1', 'AARS1', 'ODAD2', 'MTRFR', 'ODAD1']"
   ]
  },
  {
   "cell_type": "code",
   "execution_count": 10,
   "id": "69d1d26f",
   "metadata": {},
   "outputs": [],
   "source": [
    "query = '''\n",
    "{\n",
    "  gene(gene_symbol: \"%s\", reference_genome: GRCh38) {\n",
    "    gene_id\n",
    "    start\n",
    "    stop\n",
    "    chrom\n",
    "    variants(dataset: gnomad_r3) {\n",
    "      variant_id\n",
    "      pos\n",
    "      ref\n",
    "      alt\n",
    "      reference_genome\n",
    "      transcript_consequence {\n",
    "        major_consequence\n",
    "        polyphen_prediction\n",
    "      }\n",
    "    }\n",
    "  }\n",
    "}\n",
    "'''"
   ]
  },
  {
   "cell_type": "code",
   "execution_count": 11,
   "id": "1ec154d8",
   "metadata": {},
   "outputs": [],
   "source": [
    "end_point = \"https://gnomad.broadinstitute.org/api/\""
   ]
  },
  {
   "cell_type": "code",
   "execution_count": 15,
   "id": "5b605589",
   "metadata": {},
   "outputs": [],
   "source": [
    "import time\n",
    "\n",
    "def getdata(gene):\n",
    "    \"\"\"\n",
    "    Returns the response from gnomad API for a gene as well as the attempt number. If 429 errors, then retries else \n",
    "    returns -1, {}.\n",
    "    If all retries fail, returns, -2, {}.\n",
    "    \"\"\"\n",
    "    max_retries = 10\n",
    "    initial_delay = 1\n",
    "    backoff_factor = 2\n",
    "    \n",
    "    \n",
    "    \n",
    "    for attempt in range(max_retries):\n",
    "        response = requests.post(end_point, data={'query': query % (gene)}, timeout=None)\n",
    "        print(f'attempt: {attempt + 1}')\n",
    "        if response.status_code == 200:\n",
    "            if 'errors' not in response.json():\n",
    "                return response.json()['data']\n",
    "            else:\n",
    "                return {'error': response.json()['errors']}\n",
    "        elif response.status_code == 429:\n",
    "            delay = initial_delay * (backoff_factor ** (attempt + 1))\n",
    "            if attempt < max_retries - 1:\n",
    "                time.sleep(delay)   \n",
    "        else:\n",
    "            return {'error': response.status_code}\n",
    "    return {'error': -2}"
   ]
  },
  {
   "cell_type": "code",
   "execution_count": 13,
   "id": "4271b177",
   "metadata": {},
   "outputs": [],
   "source": [
    "gnomad_data = []\n",
    "from IPython.display import clear_output\n",
    "while genes:\n",
    "    gene = genes.pop(0)\n",
    "    print(len(genes))\n",
    "    print(gene)\n",
    "    gene_data = getdata(gene)\n",
    "    if 'error' in gene_data:\n",
    "        if not isinstance(gene_data['error'], list):\n",
    "            genes.append(gene)\n",
    "    else:\n",
    "        gnomad_data.append(gene_data)\n",
    "    clear_output()\n",
    "    time.sleep(0.1)"
   ]
  },
  {
   "cell_type": "code",
   "execution_count": 14,
   "id": "01d69654",
   "metadata": {},
   "outputs": [],
   "source": [
    "import json\n",
    "\n",
    "jsonpath = './output/gnomad_data_more.json'\n",
    "\n",
    "with open(jsonpath, 'w') as file:\n",
    "    json.dump(gnomad_data, file)"
   ]
  }
 ],
 "metadata": {
  "kernelspec": {
   "display_name": "Python 3 (ipykernel)",
   "language": "python",
   "name": "python3"
  },
  "language_info": {
   "codemirror_mode": {
    "name": "ipython",
    "version": 3
   },
   "file_extension": ".py",
   "mimetype": "text/x-python",
   "name": "python",
   "nbconvert_exporter": "python",
   "pygments_lexer": "ipython3",
   "version": "3.9.12"
  }
 },
 "nbformat": 4,
 "nbformat_minor": 5
}
